{
 "cells": [
  {
   "cell_type": "code",
   "execution_count": 1,
   "metadata": {},
   "outputs": [
    {
     "name": "stdout",
     "output_type": "stream",
     "text": [
      "Collecting google-generativeai\n",
      "  Downloading google_generativeai-0.8.4-py3-none-any.whl.metadata (4.2 kB)\n",
      "Collecting google-ai-generativelanguage==0.6.15 (from google-generativeai)\n",
      "  Downloading google_ai_generativelanguage-0.6.15-py3-none-any.whl.metadata (5.7 kB)\n",
      "Collecting google-api-core (from google-generativeai)\n",
      "  Downloading google_api_core-2.24.1-py3-none-any.whl.metadata (3.0 kB)\n",
      "Collecting google-api-python-client (from google-generativeai)\n",
      "  Downloading google_api_python_client-2.160.0-py2.py3-none-any.whl.metadata (6.7 kB)\n",
      "Collecting google-auth>=2.15.0 (from google-generativeai)\n",
      "  Downloading google_auth-2.38.0-py2.py3-none-any.whl.metadata (4.8 kB)\n",
      "Requirement already satisfied: protobuf in c:\\users\\rager\\anaconda3\\lib\\site-packages (from google-generativeai) (3.20.3)\n",
      "Requirement already satisfied: pydantic in c:\\users\\rager\\anaconda3\\lib\\site-packages (from google-generativeai) (2.5.3)\n",
      "Requirement already satisfied: tqdm in c:\\users\\rager\\anaconda3\\lib\\site-packages (from google-generativeai) (4.66.4)\n",
      "Requirement already satisfied: typing-extensions in c:\\users\\rager\\appdata\\roaming\\python\\python312\\site-packages (from google-generativeai) (4.9.0)\n",
      "Collecting proto-plus<2.0.0dev,>=1.22.3 (from google-ai-generativelanguage==0.6.15->google-generativeai)\n",
      "  Downloading proto_plus-1.26.0-py3-none-any.whl.metadata (2.2 kB)\n",
      "Collecting googleapis-common-protos<2.0.dev0,>=1.56.2 (from google-api-core->google-generativeai)\n",
      "  Downloading googleapis_common_protos-1.67.0-py2.py3-none-any.whl.metadata (5.1 kB)\n",
      "Requirement already satisfied: requests<3.0.0.dev0,>=2.18.0 in c:\\users\\rager\\anaconda3\\lib\\site-packages (from google-api-core->google-generativeai) (2.32.2)\n",
      "Requirement already satisfied: cachetools<6.0,>=2.0.0 in c:\\users\\rager\\anaconda3\\lib\\site-packages (from google-auth>=2.15.0->google-generativeai) (5.3.3)\n",
      "Requirement already satisfied: pyasn1-modules>=0.2.1 in c:\\users\\rager\\anaconda3\\lib\\site-packages (from google-auth>=2.15.0->google-generativeai) (0.2.8)\n",
      "Collecting rsa<5,>=3.1.4 (from google-auth>=2.15.0->google-generativeai)\n",
      "  Downloading rsa-4.9-py3-none-any.whl.metadata (4.2 kB)\n",
      "Collecting httplib2<1.dev0,>=0.19.0 (from google-api-python-client->google-generativeai)\n",
      "  Downloading httplib2-0.22.0-py3-none-any.whl.metadata (2.6 kB)\n",
      "Collecting google-auth-httplib2<1.0.0,>=0.2.0 (from google-api-python-client->google-generativeai)\n",
      "  Downloading google_auth_httplib2-0.2.0-py2.py3-none-any.whl.metadata (2.2 kB)\n",
      "Collecting uritemplate<5,>=3.0.1 (from google-api-python-client->google-generativeai)\n",
      "  Downloading uritemplate-4.1.1-py2.py3-none-any.whl.metadata (2.9 kB)\n",
      "Requirement already satisfied: annotated-types>=0.4.0 in c:\\users\\rager\\anaconda3\\lib\\site-packages (from pydantic->google-generativeai) (0.6.0)\n",
      "Requirement already satisfied: pydantic-core==2.14.6 in c:\\users\\rager\\anaconda3\\lib\\site-packages (from pydantic->google-generativeai) (2.14.6)\n",
      "Requirement already satisfied: colorama in c:\\users\\rager\\anaconda3\\lib\\site-packages (from tqdm->google-generativeai) (0.4.6)\n",
      "Collecting grpcio<2.0dev,>=1.33.2 (from google-api-core[grpc]!=2.0.*,!=2.1.*,!=2.10.*,!=2.2.*,!=2.3.*,!=2.4.*,!=2.5.*,!=2.6.*,!=2.7.*,!=2.8.*,!=2.9.*,<3.0.0dev,>=1.34.1->google-ai-generativelanguage==0.6.15->google-generativeai)\n",
      "  Downloading grpcio-1.70.0-cp312-cp312-win_amd64.whl.metadata (4.0 kB)\n",
      "Collecting grpcio-status<2.0.dev0,>=1.33.2 (from google-api-core[grpc]!=2.0.*,!=2.1.*,!=2.10.*,!=2.2.*,!=2.3.*,!=2.4.*,!=2.5.*,!=2.6.*,!=2.7.*,!=2.8.*,!=2.9.*,<3.0.0dev,>=1.34.1->google-ai-generativelanguage==0.6.15->google-generativeai)\n",
      "  Downloading grpcio_status-1.70.0-py3-none-any.whl.metadata (1.1 kB)\n",
      "Requirement already satisfied: pyparsing!=3.0.0,!=3.0.1,!=3.0.2,!=3.0.3,<4,>=2.4.2 in c:\\users\\rager\\anaconda3\\lib\\site-packages (from httplib2<1.dev0,>=0.19.0->google-api-python-client->google-generativeai) (3.0.9)\n",
      "Requirement already satisfied: pyasn1<0.5.0,>=0.4.6 in c:\\users\\rager\\anaconda3\\lib\\site-packages (from pyasn1-modules>=0.2.1->google-auth>=2.15.0->google-generativeai) (0.4.8)\n",
      "Requirement already satisfied: charset-normalizer<4,>=2 in c:\\users\\rager\\anaconda3\\lib\\site-packages (from requests<3.0.0.dev0,>=2.18.0->google-api-core->google-generativeai) (2.0.4)\n",
      "Requirement already satisfied: idna<4,>=2.5 in c:\\users\\rager\\anaconda3\\lib\\site-packages (from requests<3.0.0.dev0,>=2.18.0->google-api-core->google-generativeai) (3.7)\n",
      "Requirement already satisfied: urllib3<3,>=1.21.1 in c:\\users\\rager\\anaconda3\\lib\\site-packages (from requests<3.0.0.dev0,>=2.18.0->google-api-core->google-generativeai) (2.2.2)\n",
      "Requirement already satisfied: certifi>=2017.4.17 in c:\\users\\rager\\anaconda3\\lib\\site-packages (from requests<3.0.0.dev0,>=2.18.0->google-api-core->google-generativeai) (2024.7.4)\n",
      "Collecting protobuf (from google-generativeai)\n",
      "  Downloading protobuf-5.29.3-cp310-abi3-win_amd64.whl.metadata (592 bytes)\n",
      "Downloading google_generativeai-0.8.4-py3-none-any.whl (175 kB)\n",
      "   ---------------------------------------- 0.0/175.4 kB ? eta -:--:--\n",
      "   ----------- ---------------------------- 51.2/175.4 kB 2.7 MB/s eta 0:00:01\n",
      "   ---------------------------------------  174.1/175.4 kB 2.6 MB/s eta 0:00:01\n",
      "   ---------------------------------------- 175.4/175.4 kB 2.1 MB/s eta 0:00:00\n",
      "Downloading google_ai_generativelanguage-0.6.15-py3-none-any.whl (1.3 MB)\n",
      "   ---------------------------------------- 0.0/1.3 MB ? eta -:--:--\n",
      "   ------ --------------------------------- 0.2/1.3 MB 6.9 MB/s eta 0:00:01\n",
      "   ---------------- ----------------------- 0.6/1.3 MB 7.1 MB/s eta 0:00:01\n",
      "   ------------------------------ --------- 1.0/1.3 MB 8.1 MB/s eta 0:00:01\n",
      "   ---------------------------------------- 1.3/1.3 MB 7.7 MB/s eta 0:00:00\n",
      "Downloading google_api_core-2.24.1-py3-none-any.whl (160 kB)\n",
      "   ---------------------------------------- 0.0/160.1 kB ? eta -:--:--\n",
      "   ---------------------------------------- 160.1/160.1 kB 9.4 MB/s eta 0:00:00\n",
      "Downloading google_auth-2.38.0-py2.py3-none-any.whl (210 kB)\n",
      "   ---------------------------------------- 0.0/210.8 kB ? eta -:--:--\n",
      "   --------------------------------------- 210.8/210.8 kB 12.5 MB/s eta 0:00:00\n",
      "Downloading google_api_python_client-2.160.0-py2.py3-none-any.whl (12.8 MB)\n",
      "   ---------------------------------------- 0.0/12.8 MB ? eta -:--:--\n",
      "    --------------------------------------- 0.3/12.8 MB 9.6 MB/s eta 0:00:02\n",
      "   - -------------------------------------- 0.5/12.8 MB 7.6 MB/s eta 0:00:02\n",
      "   -- ------------------------------------- 0.7/12.8 MB 5.7 MB/s eta 0:00:03\n",
      "   -- ------------------------------------- 0.9/12.8 MB 4.9 MB/s eta 0:00:03\n",
      "   --- ------------------------------------ 1.0/12.8 MB 4.6 MB/s eta 0:00:03\n",
      "   --- ------------------------------------ 1.2/12.8 MB 4.5 MB/s eta 0:00:03\n",
      "   ---- ----------------------------------- 1.3/12.8 MB 4.4 MB/s eta 0:00:03\n",
      "   ---- ----------------------------------- 1.5/12.8 MB 4.3 MB/s eta 0:00:03\n",
      "   ----- ---------------------------------- 1.7/12.8 MB 4.3 MB/s eta 0:00:03\n",
      "   ----- ---------------------------------- 1.9/12.8 MB 4.2 MB/s eta 0:00:03\n",
      "   ------ --------------------------------- 2.1/12.8 MB 4.2 MB/s eta 0:00:03\n",
      "   ------- -------------------------------- 2.3/12.8 MB 4.4 MB/s eta 0:00:03\n",
      "   ------- -------------------------------- 2.4/12.8 MB 4.2 MB/s eta 0:00:03\n",
      "   -------- ------------------------------- 2.7/12.8 MB 4.3 MB/s eta 0:00:03\n",
      "   -------- ------------------------------- 2.8/12.8 MB 4.2 MB/s eta 0:00:03\n",
      "   --------- ------------------------------ 3.1/12.8 MB 4.2 MB/s eta 0:00:03\n",
      "   --------- ------------------------------ 3.2/12.8 MB 4.3 MB/s eta 0:00:03\n",
      "   ---------- ----------------------------- 3.4/12.8 MB 4.1 MB/s eta 0:00:03\n",
      "   ---------- ----------------------------- 3.5/12.8 MB 4.2 MB/s eta 0:00:03\n",
      "   ----------- ---------------------------- 3.8/12.8 MB 4.2 MB/s eta 0:00:03\n",
      "   ------------ --------------------------- 4.0/12.8 MB 4.3 MB/s eta 0:00:03\n",
      "   ------------- -------------------------- 4.2/12.8 MB 4.2 MB/s eta 0:00:03\n",
      "   -------------- ------------------------- 4.5/12.8 MB 4.3 MB/s eta 0:00:02\n",
      "   -------------- ------------------------- 4.8/12.8 MB 4.4 MB/s eta 0:00:02\n",
      "   --------------- ------------------------ 5.0/12.8 MB 4.4 MB/s eta 0:00:02\n",
      "   ---------------- ----------------------- 5.2/12.8 MB 4.5 MB/s eta 0:00:02\n",
      "   ----------------- ---------------------- 5.7/12.8 MB 4.6 MB/s eta 0:00:02\n",
      "   ------------------ --------------------- 5.9/12.8 MB 4.7 MB/s eta 0:00:02\n",
      "   ------------------- -------------------- 6.2/12.8 MB 4.7 MB/s eta 0:00:02\n",
      "   -------------------- ------------------- 6.7/12.8 MB 4.9 MB/s eta 0:00:02\n",
      "   ----------------------- ---------------- 7.6/12.8 MB 5.4 MB/s eta 0:00:01\n",
      "   ------------------------- -------------- 8.2/12.8 MB 5.6 MB/s eta 0:00:01\n",
      "   -------------------------- ------------- 8.5/12.8 MB 5.8 MB/s eta 0:00:01\n",
      "   --------------------------- ------------ 8.9/12.8 MB 5.7 MB/s eta 0:00:01\n",
      "   ---------------------------- ----------- 9.0/12.8 MB 5.8 MB/s eta 0:00:01\n",
      "   ----------------------------- ---------- 9.5/12.8 MB 5.8 MB/s eta 0:00:01\n",
      "   ------------------------------ --------- 9.8/12.8 MB 5.8 MB/s eta 0:00:01\n",
      "   ------------------------------- -------- 10.1/12.8 MB 5.8 MB/s eta 0:00:01\n",
      "   -------------------------------- ------- 10.4/12.8 MB 5.8 MB/s eta 0:00:01\n",
      "   --------------------------------- ------ 10.7/12.8 MB 5.8 MB/s eta 0:00:01\n",
      "   ---------------------------------- ----- 11.1/12.8 MB 6.1 MB/s eta 0:00:01\n",
      "   ----------------------------------- ---- 11.5/12.8 MB 6.3 MB/s eta 0:00:01\n",
      "   ------------------------------------ --- 11.7/12.8 MB 6.4 MB/s eta 0:00:01\n",
      "   -------------------------------------- - 12.2/12.8 MB 6.7 MB/s eta 0:00:01\n",
      "   ---------------------------------------  12.5/12.8 MB 6.7 MB/s eta 0:00:01\n",
      "   ---------------------------------------  12.6/12.8 MB 6.7 MB/s eta 0:00:01\n",
      "   ---------------------------------------  12.8/12.8 MB 6.7 MB/s eta 0:00:01\n",
      "   ---------------------------------------- 12.8/12.8 MB 6.5 MB/s eta 0:00:00\n",
      "Downloading google_auth_httplib2-0.2.0-py2.py3-none-any.whl (9.3 kB)\n",
      "Downloading googleapis_common_protos-1.67.0-py2.py3-none-any.whl (164 kB)\n",
      "   ---------------------------------------- 0.0/165.0 kB ? eta -:--:--\n",
      "   --------------------------------------- 165.0/165.0 kB 10.3 MB/s eta 0:00:00\n",
      "Downloading httplib2-0.22.0-py3-none-any.whl (96 kB)\n",
      "   ---------------------------------------- 0.0/96.9 kB ? eta -:--:--\n",
      "   ---------------------------------------- 96.9/96.9 kB 5.8 MB/s eta 0:00:00\n",
      "Downloading proto_plus-1.26.0-py3-none-any.whl (50 kB)\n",
      "   ---------------------------------------- 0.0/50.2 kB ? eta -:--:--\n",
      "   ---------------------------------------- 50.2/50.2 kB 2.5 MB/s eta 0:00:00\n",
      "Downloading rsa-4.9-py3-none-any.whl (34 kB)\n",
      "Downloading uritemplate-4.1.1-py2.py3-none-any.whl (10 kB)\n",
      "Downloading grpcio-1.70.0-cp312-cp312-win_amd64.whl (4.3 MB)\n",
      "   ---------------------------------------- 0.0/4.3 MB ? eta -:--:--\n",
      "   ------ --------------------------------- 0.7/4.3 MB 14.8 MB/s eta 0:00:01\n",
      "   ----------- ---------------------------- 1.3/4.3 MB 13.4 MB/s eta 0:00:01\n",
      "   ---------------- ----------------------- 1.8/4.3 MB 12.9 MB/s eta 0:00:01\n",
      "   ---------------------- ----------------- 2.5/4.3 MB 13.0 MB/s eta 0:00:01\n",
      "   -------------------------- ------------- 2.8/4.3 MB 12.9 MB/s eta 0:00:01\n",
      "   ---------------------------- ----------- 3.1/4.3 MB 10.9 MB/s eta 0:00:01\n",
      "   -------------------------------- ------- 3.5/4.3 MB 10.7 MB/s eta 0:00:01\n",
      "   ------------------------------------ --- 4.0/4.3 MB 10.5 MB/s eta 0:00:01\n",
      "   ---------------------------------------  4.3/4.3 MB 10.5 MB/s eta 0:00:01\n",
      "   ---------------------------------------- 4.3/4.3 MB 9.8 MB/s eta 0:00:00\n",
      "Downloading grpcio_status-1.70.0-py3-none-any.whl (14 kB)\n",
      "Downloading protobuf-5.29.3-cp310-abi3-win_amd64.whl (434 kB)\n",
      "   ---------------------------------------- 0.0/434.5 kB ? eta -:--:--\n",
      "   --------------------------------- ----- 368.6/434.5 kB 11.6 MB/s eta 0:00:01\n",
      "   ---------------------------------------- 434.5/434.5 kB 6.7 MB/s eta 0:00:00\n",
      "Installing collected packages: uritemplate, rsa, protobuf, httplib2, grpcio, proto-plus, googleapis-common-protos, google-auth, grpcio-status, google-auth-httplib2, google-api-core, google-api-python-client, google-ai-generativelanguage, google-generativeai\n",
      "  Attempting uninstall: protobuf\n",
      "    Found existing installation: protobuf 3.20.3\n",
      "    Uninstalling protobuf-3.20.3:\n",
      "      Successfully uninstalled protobuf-3.20.3\n",
      "Successfully installed google-ai-generativelanguage-0.6.15 google-api-core-2.24.1 google-api-python-client-2.160.0 google-auth-2.38.0 google-auth-httplib2-0.2.0 google-generativeai-0.8.4 googleapis-common-protos-1.67.0 grpcio-1.70.0 grpcio-status-1.70.0 httplib2-0.22.0 proto-plus-1.26.0 protobuf-5.29.3 rsa-4.9 uritemplate-4.1.1\n"
     ]
    },
    {
     "name": "stderr",
     "output_type": "stream",
     "text": [
      "ERROR: pip's dependency resolver does not currently take into account all the packages that are installed. This behaviour is the source of the following dependency conflicts.\n",
      "streamlit 1.32.0 requires protobuf<5,>=3.20, but you have protobuf 5.29.3 which is incompatible.\n"
     ]
    }
   ],
   "source": [
    "! pip install google-generativeai"
   ]
  },
  {
   "cell_type": "code",
   "execution_count": 2,
   "metadata": {},
   "outputs": [],
   "source": [
    "import google.generativeai as genai"
   ]
  },
  {
   "cell_type": "code",
   "execution_count": null,
   "metadata": {},
   "outputs": [],
   "source": [
    "genai.configure(api_key=\"YOUR API KEY\")"
   ]
  },
  {
   "cell_type": "code",
   "execution_count": null,
   "metadata": {},
   "outputs": [
    {
     "name": "stdout",
     "output_type": "stream",
     "text": [
      "models/chat-bison-001\n",
      "models/text-bison-001\n",
      "models/embedding-gecko-001\n",
      "models/gemini-1.0-pro-latest\n",
      "models/gemini-1.0-pro\n",
      "models/gemini-pro\n",
      "models/gemini-1.0-pro-001\n",
      "models/gemini-1.0-pro-vision-latest\n",
      "models/gemini-pro-vision\n",
      "models/gemini-1.5-pro-latest\n",
      "models/gemini-1.5-pro-001\n",
      "models/gemini-1.5-pro-002\n",
      "models/gemini-1.5-pro\n",
      "models/gemini-1.5-flash-latest\n",
      "models/gemini-1.5-flash-001\n",
      "models/gemini-1.5-flash-001-tuning\n",
      "models/gemini-1.5-flash\n",
      "models/gemini-1.5-flash-002\n",
      "models/gemini-1.5-flash-8b\n",
      "models/gemini-1.5-flash-8b-001\n",
      "models/gemini-1.5-flash-8b-latest\n",
      "models/gemini-1.5-flash-8b-exp-0827\n",
      "models/gemini-1.5-flash-8b-exp-0924\n",
      "models/gemini-2.0-flash-exp\n",
      "models/gemini-2.0-flash\n",
      "models/gemini-2.0-flash-001\n",
      "models/gemini-2.0-flash-lite-preview\n",
      "models/gemini-2.0-flash-lite-preview-02-05\n",
      "models/gemini-2.0-pro-exp\n",
      "models/gemini-2.0-pro-exp-02-05\n",
      "models/gemini-exp-1206\n",
      "models/gemini-2.0-flash-thinking-exp-01-21\n",
      "models/gemini-2.0-flash-thinking-exp\n",
      "models/gemini-2.0-flash-thinking-exp-1219\n",
      "models/learnlm-1.5-pro-experimental\n",
      "models/embedding-001\n",
      "models/text-embedding-004\n",
      "models/aqa\n",
      "models/imagen-3.0-generate-002\n"
     ]
    }
   ],
   "source": [
    "for m in genai.list_models():\n",
    "    print(m.name)"
   ]
  },
  {
   "cell_type": "code",
   "execution_count": 7,
   "metadata": {},
   "outputs": [
    {
     "name": "stdout",
     "output_type": "stream",
     "text": [
      "Earth is a **planet**.\n",
      "\n"
     ]
    }
   ],
   "source": [
    "# Pick a model\n",
    "model = genai.GenerativeModel(model_name=\"models/gemini-2.0-flash-exp\")\n",
    "\n",
    "user_prompt = \"Earth is a\"\n",
    "\n",
    "response = model.generate_content(user_prompt)\n",
    "\n",
    "print(response.text)"
   ]
  },
  {
   "cell_type": "code",
   "execution_count": 8,
   "metadata": {},
   "outputs": [
    {
     "data": {
      "text/markdown": [
       "Earth is a **planet**.\n"
      ],
      "text/plain": [
       "<IPython.core.display.Markdown object>"
      ]
     },
     "execution_count": 8,
     "metadata": {},
     "output_type": "execute_result"
    }
   ],
   "source": [
    "from IPython.display import Markdown\n",
    "\n",
    "Markdown(response.text)"
   ]
  },
  {
   "cell_type": "code",
   "execution_count": 9,
   "metadata": {},
   "outputs": [
    {
     "data": {
      "text/markdown": [
       "Okay, here's some factual information about Earth:\n",
       "\n",
       "*   **Earth is a planet:** Specifically, it's the third planet from the Sun in our solar system.\n",
       "\n",
       "*   **Earth is a terrestrial planet:** This means it's primarily composed of rock and metal, unlike the gas giants like Jupiter or Saturn.\n",
       "\n",
       "*   **Earth is the only known celestial body to support life:** As far as we currently know, Earth is unique in harboring a diverse range of living organisms.\n",
       "\n",
       "*   **Earth is approximately 4.54 billion years old:** Scientists have determined this through radiometric dating of rocks and meteorites.\n",
       "\n",
       "*   **Earth has a diameter of about 12,742 kilometers (7,918 miles):** This is the distance through the Earth at the equator.\n",
       "\n",
       "*   **Earth has one natural satellite: the Moon:** The Moon is believed to have formed from debris after a collision between Earth and a Mars-sized object.\n",
       "\n",
       "*   **Earth's atmosphere is primarily composed of nitrogen (about 78%) and oxygen (about 21%):** The remaining 1% includes argon, carbon dioxide, and trace amounts of other gases.\n",
       "\n",
       "*   **Earth's surface is about 71% water and 29% land:** The water includes oceans, seas, lakes, and rivers.\n",
       "\n",
       "*   **Earth rotates on its axis, completing one rotation approximately every 24 hours:** This rotation is what causes day and night.\n",
       "\n",
       "*   **Earth orbits the Sun, completing one orbit approximately every 365.25 days:** This orbit is what causes the seasons (due to the tilt of Earth's axis).\n",
       "\n",
       "*   **Earth has a magnetic field:** This field is generated by the movement of molten iron within the Earth's core and protects the planet from harmful solar radiation.\n",
       "\n",
       "*   **Earth's structure consists of several layers:** These layers include the inner core, outer core, mantle, and crust.\n",
       "\n",
       "*   **Earth's average surface temperature is about 15°C (59°F):** This temperature varies greatly depending on location and time of year."
      ],
      "text/plain": [
       "<IPython.core.display.Markdown object>"
      ]
     },
     "execution_count": 9,
     "metadata": {},
     "output_type": "execute_result"
    }
   ],
   "source": [
    "user_prompt = \"generate some factual information. Earth is a\"\n",
    "\n",
    "response = model.generate_content(user_prompt)\n",
    "Markdown(response.text)"
   ]
  },
  {
   "cell_type": "code",
   "execution_count": 11,
   "metadata": {},
   "outputs": [
    {
     "name": "stdout",
     "output_type": "stream",
     "text": [
      "- The third planet from the Sun.\n",
      "- The only astronomical object known to harbor life.\n",
      "- The densest planet in the Solar System and the largest of the four terrestrial planets.\n",
      "\n"
     ]
    }
   ],
   "source": [
    "system_prompt = \"Generate only factual information related to user input. Completion must takes place maximum upto 2 to 3 lines\"\n",
    "gemini = genai.GenerativeModel(model_name = \"models/gemini-2.0-flash-exp\",system_instruction = system_prompt)\n",
    "user_prompt = \"Earth is a\"\n",
    "response = gemini.generate_content(user_prompt)\n",
    "print(response.text)"
   ]
  },
  {
   "cell_type": "code",
   "execution_count": null,
   "metadata": {},
   "outputs": [],
   "source": []
  }
 ],
 "metadata": {
  "kernelspec": {
   "display_name": "base",
   "language": "python",
   "name": "python3"
  },
  "language_info": {
   "codemirror_mode": {
    "name": "ipython",
    "version": 3
   },
   "file_extension": ".py",
   "mimetype": "text/x-python",
   "name": "python",
   "nbconvert_exporter": "python",
   "pygments_lexer": "ipython3",
   "version": "3.12.4"
  }
 },
 "nbformat": 4,
 "nbformat_minor": 2
}
